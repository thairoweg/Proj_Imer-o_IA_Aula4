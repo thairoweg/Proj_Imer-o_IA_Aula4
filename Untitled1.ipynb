{
  "nbformat": 4,
  "nbformat_minor": 0,
  "metadata": {
    "colab": {
      "provenance": [],
      "authorship_tag": "ABX9TyPvy/iEtm5nRyhdN4HvXzAq",
      "include_colab_link": true
    },
    "kernelspec": {
      "name": "python3",
      "display_name": "Python 3"
    },
    "language_info": {
      "name": "python"
    }
  },
  "cells": [
    {
      "cell_type": "markdown",
      "metadata": {
        "id": "view-in-github",
        "colab_type": "text"
      },
      "source": [
        "<a href=\"https://colab.research.google.com/github/thairoweg/Proj_Imer-o_IA_Aula4/blob/main/Untitled1.ipynb\" target=\"_parent\"><img src=\"https://colab.research.google.com/assets/colab-badge.svg\" alt=\"Open In Colab\"/></a>"
      ]
    },
    {
      "cell_type": "markdown",
      "source": [
        "Instalar o SDK do Google"
      ],
      "metadata": {
        "id": "SY9Hjnedu8w3"
      }
    },
    {
      "cell_type": "code",
      "execution_count": 1,
      "metadata": {
        "id": "l7wgTyP-pQWN"
      },
      "outputs": [],
      "source": [
        "!pip install -q -U google-generativeai"
      ]
    },
    {
      "cell_type": "markdown",
      "source": [
        "Configurações iniciais"
      ],
      "metadata": {
        "id": "Fu4__jTrybLa"
      }
    },
    {
      "cell_type": "code",
      "source": [
        "import google.generativeai as genai\n",
        "from google.colab import userdata\n",
        "api_key = userdata.get(\"Secret_Key\")\n",
        "genai.configure(api_key=api_key)"
      ],
      "metadata": {
        "id": "aVTzKb_3r153"
      },
      "execution_count": 19,
      "outputs": []
    },
    {
      "cell_type": "markdown",
      "source": [
        "Listar os modelos disponíveis"
      ],
      "metadata": {
        "id": "9j0VeEXmvLOA"
      }
    },
    {
      "cell_type": "code",
      "source": [
        "for m in genai.list_models():\n",
        "  if 'generateContent' in m.supported_generation_methods:\n",
        "    print(m.name)"
      ],
      "metadata": {
        "colab": {
          "base_uri": "https://localhost:8080/",
          "height": 139
        },
        "id": "oJAEZzoUs-vZ",
        "outputId": "a6f59348-0c46-4bfe-de3f-b1be571361b1"
      },
      "execution_count": 20,
      "outputs": [
        {
          "output_type": "stream",
          "name": "stdout",
          "text": [
            "models/gemini-1.0-pro\n",
            "models/gemini-1.0-pro-001\n",
            "models/gemini-1.0-pro-latest\n",
            "models/gemini-1.0-pro-vision-latest\n",
            "models/gemini-1.5-pro-latest\n",
            "models/gemini-pro\n",
            "models/gemini-pro-vision\n"
          ]
        }
      ]
    },
    {
      "cell_type": "code",
      "source": [
        "generation_config = {\n",
        "    \"candidate_count\": 1,\n",
        "    \"temperature\": 0.5,\n",
        "}"
      ],
      "metadata": {
        "id": "EtyTWIbkw1QC"
      },
      "execution_count": 21,
      "outputs": []
    },
    {
      "cell_type": "code",
      "source": [
        "safety_settings = {\n",
        "    'HATE': 'BLOCK_NONE',\n",
        "    'HARASSMENT': 'BLOCK_NONE',\n",
        "    'SEXUAL' : 'BLOCK_NONE',\n",
        "    'DANGEROUS' : 'BLOCK_NONE',\n",
        "}"
      ],
      "metadata": {
        "id": "bo89J3g7xUPb"
      },
      "execution_count": 23,
      "outputs": []
    },
    {
      "cell_type": "markdown",
      "source": [
        "Inicializando o modelo"
      ],
      "metadata": {
        "id": "7_U-jGwbyloQ"
      }
    },
    {
      "cell_type": "code",
      "source": [
        "model = genai.GenerativeModel(model_name=\"gemini-1.0-pro\",\n",
        "                              generation_config=generation_config,\n",
        "                              safety_settings=safety_settings)"
      ],
      "metadata": {
        "id": "D6Md9sfjyWdA"
      },
      "execution_count": 24,
      "outputs": []
    },
    {
      "cell_type": "code",
      "source": [
        "response = model.generate_content(\"Vamos aprender conteúdo sobre IA. Me dê sugestôes.\")\n",
        "print(response.text)"
      ],
      "metadata": {
        "colab": {
          "base_uri": "https://localhost:8080/",
          "height": 625
        },
        "id": "_jtCl9F6EBxf",
        "outputId": "0d517ff1-673b-47f4-cd19-00a146eb60c4"
      },
      "execution_count": 25,
      "outputs": [
        {
          "output_type": "stream",
          "name": "stdout",
          "text": [
            "**Cursos Online:**\n",
            "\n",
            "* Curso de Inteligência Artificial da Coursera\n",
            "* Especialização em Inteligência Artificial da edX\n",
            "* Curso de Inteligência Artificial do MIT OpenCourseWare\n",
            "\n",
            "**Livros:**\n",
            "\n",
            "* \"Inteligência Artificial: Uma Abordagem Moderna\" por Stuart Russell e Peter Norvig\n",
            "* \"Aprendizado de Máquina\" por Tom Mitchell\n",
            "* \"Visão Computacional\" por Richard Szeliski\n",
            "\n",
            "**Artigos de Pesquisa:**\n",
            "\n",
            "* \"AlphaGo: Dominando o jogo de tabuleiro Go com redes neurais profundas\" por David Silver et al.\n",
            "* \"GPT-3: Treinamento de um modelo de linguagem de grande escala\" por Tom B. Brown et al.\n",
            "* \"Aprendizagem por Reforço Profundo: Uma Revisão\" por Volodymyr Mnih et al.\n",
            "\n",
            "**Recursos Interativos:**\n",
            "\n",
            "* [IBM Watson Studio](https://www.ibm.com/cloud/watson-studio/)\n",
            "* [Google Cloud AI Platform](https://cloud.google.com/ai-platform/)\n",
            "* [Microsoft Azure AI](https://azure.microsoft.com/en-us/services/ai/)\n",
            "\n",
            "**Podcasts:**\n",
            "\n",
            "* [The AI Podcast](https://theaipodcast.com/)\n",
            "* [Lex Fridman Podcast](https://lexfridman.com/podcast/)\n",
            "* [Machine Learning Podcast](https://www.oreilly.com/library/view/machine-learning-podcast/9781491978653/)\n",
            "\n",
            "**Comunidades Online:**\n",
            "\n",
            "* [Reddit r/ArtificialIntelligence](https://www.reddit.com/r/artificial/)\n",
            "* [Stack Overflow AI](https://stackoverflow.com/questions/tagged/ai)\n",
            "* [Kaggle](https://www.kaggle.com/)\n"
          ]
        }
      ]
    },
    {
      "cell_type": "code",
      "source": [
        "chat = model.start_chat(history=[])"
      ],
      "metadata": {
        "id": "t8uIGNjgFFn4"
      },
      "execution_count": 26,
      "outputs": []
    },
    {
      "cell_type": "code",
      "source": [
        "prompt = input(\"Esperando prompt: \")\n",
        "\n",
        "while prompt != \"fim\":\n",
        "  response = chat.send_message(prompt)\n",
        "  print(\"Resposta: \", response.text,\"\\n\")\n",
        "  prompt = input(\"Esperando prompt: \")"
      ],
      "metadata": {
        "colab": {
          "base_uri": "https://localhost:8080/",
          "height": 86
        },
        "id": "C9MkrR3LFhkn",
        "outputId": "57e75e6b-0c55-4e2b-8e71-6f6335f3d4bf"
      },
      "execution_count": 30,
      "outputs": [
        {
          "name": "stdout",
          "output_type": "stream",
          "text": [
            "Esperando prompt: qual é a capital do brasil?\n",
            "Resposta:  Brasília \n",
            "\n",
            "Esperando prompt: fim\n"
          ]
        }
      ]
    },
    {
      "cell_type": "markdown",
      "source": [
        "Melhorando a visualização.\n",
        "Código disponível em https://ai.google.dev/tutorials/python_quickstart#import_packages"
      ],
      "metadata": {
        "id": "spECagZmHzcZ"
      }
    },
    {
      "cell_type": "code",
      "source": [
        "import textwrap\n",
        "from IPython.display import display\n",
        "from IPython.display import Markdown\n",
        "\n",
        "def to_markdown(text):\n",
        "  text = text.replace('•', '  *')\n",
        "  return Markdown(textwrap.indent(text, '> ', predicate=lambda _: True))\n",
        "\n",
        "#Imprimindo o histórico\n",
        "for message in chat.history:\n",
        "  display(to_markdown(f'**{message.role}**: {message.parts[0].text}'))\n",
        "  print('-------------------------------------------')"
      ],
      "metadata": {
        "colab": {
          "base_uri": "https://localhost:8080/",
          "height": 1000
        },
        "id": "S7doQA0KHyOq",
        "outputId": "b16f47db-3d15-4e5b-9efb-dd0159a1c5b4"
      },
      "execution_count": 31,
      "outputs": [
        {
          "output_type": "display_data",
          "data": {
            "text/plain": [
              "<IPython.core.display.Markdown object>"
            ],
            "text/markdown": "> **user**: qual é os modelos de IA mais utilizados?"
          },
          "metadata": {}
        },
        {
          "output_type": "stream",
          "name": "stdout",
          "text": [
            "-------------------------------------------\n"
          ]
        },
        {
          "output_type": "display_data",
          "data": {
            "text/plain": [
              "<IPython.core.display.Markdown object>"
            ],
            "text/markdown": "> **model**: **Modelos de IA Generativa**\n> \n> * **GPT-3:** Modelo de linguagem grande (LLM) para geração de texto, tradução e resposta a perguntas.\n> * **DALL-E 2:** Modelo de IA generativa para criar imagens a partir de descrições de texto.\n> * **Stable Diffusion:** Modelo de difusão latente para gerar imagens a partir de prompts de texto.\n> * **Midjourney:** Modelo de IA generativa para criar imagens artísticas a partir de prompts de texto.\n> * **Imagen:** Modelo de IA generativa desenvolvido pelo Google para criar imagens realistas a partir de descrições de texto.\n> \n> **Modelos de IA de Visão Computacional**\n> \n> * **ResNet:** Rede neural convolucional (CNN) para classificação de imagens e reconhecimento de objetos.\n> * **VGGNet:** CNN para classificação de imagens e reconhecimento de objetos.\n> * **Inception:** CNN para classificação de imagens e reconhecimento de padrões.\n> * **YOLO:** CNN para detecção de objetos em tempo real.\n> * **Mask R-CNN:** CNN para detecção de objetos e segmentação de instância.\n> \n> **Modelos de IA de Processamento de Linguagem Natural (PNL)**\n> \n> * **BERT:** Transformer bidirecional para codificação de texto e compreensão de linguagem.\n> * **XLNet:** Transformer autorregressivo para codificação de texto e compreensão de linguagem.\n> * **RoBERTa:** Transformer robusto para codificação de texto e compreensão de linguagem.\n> * **ELECTRA:** Transformer discriminativo para codificação de texto e compreensão de linguagem.\n> * **T5:** Transformer de transferência para texto para texto, resumo e tradução.\n> \n> **Modelos de IA de Aprendizado por Reforço**\n> \n> * **AlphaGo:** Modelo de IA que derrotou os melhores jogadores humanos de Go.\n> * **OpenAI Five:** Modelo de IA que derrotou os melhores jogadores humanos de Dota 2.\n> * **MuZero:** Modelo de IA geral para jogos de tabuleiro, jogos de ação e outros ambientes.\n> * **SAC:** Algoritmo de ator-crítico estocástico para aprendizado por reforço contínuo.\n> * **DDPG:** Algoritmo de política determinística gradiente para aprendizado por reforço contínuo."
          },
          "metadata": {}
        },
        {
          "output_type": "stream",
          "name": "stdout",
          "text": [
            "-------------------------------------------\n"
          ]
        },
        {
          "output_type": "display_data",
          "data": {
            "text/plain": [
              "<IPython.core.display.Markdown object>"
            ],
            "text/markdown": "> **user**: qual é a IA do Google?"
          },
          "metadata": {}
        },
        {
          "output_type": "stream",
          "name": "stdout",
          "text": [
            "-------------------------------------------\n"
          ]
        },
        {
          "output_type": "display_data",
          "data": {
            "text/plain": [
              "<IPython.core.display.Markdown object>"
            ],
            "text/markdown": "> **model**: A IA do Google é um conjunto abrangente de tecnologias e produtos de inteligência artificial desenvolvidos pelo Google. É conhecida como **Google AI**.\n> \n> **Principais componentes da Google AI:**\n> \n> * **TensorFlow:** Biblioteca de aprendizado de máquina de código aberto para treinamento e implantação de modelos de IA.\n> * **Cloud AI Platform:** Plataforma em nuvem que fornece serviços de IA, como aprendizado de máquina, processamento de linguagem natural e visão computacional.\n> * **Google Assistant:** Assistente virtual alimentado por IA que pode responder perguntas, controlar dispositivos domésticos inteligentes e concluir tarefas.\n> * **Waymo:** Empresa de veículos autônomos do Google que desenvolve tecnologia de direção autônoma.\n> * **DeepMind:** Laboratório de pesquisa de IA do Google que se concentra em aprendizado de reforço, aprendizado profundo e IA geral.\n> \n> **Aplicações da Google AI:**\n> \n> * **Pesquisa:** Aprimoramento dos resultados da pesquisa por meio de processamento de linguagem natural e aprendizado de máquina.\n> * **Gmail:** Filtragem de spam, composição de e-mails e resposta automática.\n> * **Google Fotos:** Reconhecimento de objetos, marcação de fotos e criação de álbuns.\n> * **Google Maps:** Navegação, informações de trânsito em tempo real e recomendações de locais.\n> * **YouTube:** Recomendações de vídeo personalizadas, legendas automáticas e moderação de conteúdo.\n> \n> A Google AI está constantemente evoluindo e sendo aplicada a novos produtos e serviços. É uma parte fundamental da estratégia do Google para construir um futuro mais inteligente e útil."
          },
          "metadata": {}
        },
        {
          "output_type": "stream",
          "name": "stdout",
          "text": [
            "-------------------------------------------\n"
          ]
        },
        {
          "output_type": "display_data",
          "data": {
            "text/plain": [
              "<IPython.core.display.Markdown object>"
            ],
            "text/markdown": "> **user**: qual é a capital do brasil?"
          },
          "metadata": {}
        },
        {
          "output_type": "stream",
          "name": "stdout",
          "text": [
            "-------------------------------------------\n"
          ]
        },
        {
          "output_type": "display_data",
          "data": {
            "text/plain": [
              "<IPython.core.display.Markdown object>"
            ],
            "text/markdown": "> **model**: Brasília"
          },
          "metadata": {}
        },
        {
          "output_type": "stream",
          "name": "stdout",
          "text": [
            "-------------------------------------------\n"
          ]
        }
      ]
    }
  ]
}